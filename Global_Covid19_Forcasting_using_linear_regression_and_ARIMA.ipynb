{
  "nbformat": 4,
  "nbformat_minor": 0,
  "metadata": {
    "colab": {
      "name": "Global Covid19-Forcasting using linear regression and ARIMA.ipynb",
      "provenance": [],
      "collapsed_sections": [],
      "authorship_tag": "ABX9TyNkyxmUQMvhzYY28mVehps/",
      "include_colab_link": true
    },
    "kernelspec": {
      "name": "python3",
      "display_name": "Python 3"
    }
  },
  "cells": [
    {
      "cell_type": "markdown",
      "metadata": {
        "id": "view-in-github",
        "colab_type": "text"
      },
      "source": [
        "<a href=\"https://colab.research.google.com/github/swati23/covid-19-/blob/master/Global_Covid19_Forcasting_using_linear_regression_and_ARIMA.ipynb\" target=\"_parent\"><img src=\"https://colab.research.google.com/assets/colab-badge.svg\" alt=\"Open In Colab\"/></a>"
      ]
    },
    {
      "cell_type": "code",
      "metadata": {
        "id": "ZVWNeAbkXuZC",
        "colab_type": "code",
        "colab": {
          "base_uri": "https://localhost:8080/",
          "height": 71
        },
        "outputId": "3b322bbf-7a8e-4451-9b68-33b349292add"
      },
      "source": [
        "import pandas as pd\n",
        "import matplotlib.pyplot as plt\n",
        "import seaborn as sns \n",
        "import numpy as np\n"
      ],
      "execution_count": 1,
      "outputs": [
        {
          "output_type": "stream",
          "text": [
            "/usr/local/lib/python3.6/dist-packages/statsmodels/tools/_testing.py:19: FutureWarning: pandas.util.testing is deprecated. Use the functions in the public API at pandas.testing instead.\n",
            "  import pandas.util.testing as tm\n"
          ],
          "name": "stderr"
        }
      ]
    },
    {
      "cell_type": "code",
      "metadata": {
        "id": "CIBBFLPeXwHI",
        "colab_type": "code",
        "colab": {}
      },
      "source": [
        "covid=pd.read_csv('https://raw.githubusercontent.com/swati23/covid-19-/master/covid_19_data.csv')"
      ],
      "execution_count": 0,
      "outputs": []
    },
    {
      "cell_type": "code",
      "metadata": {
        "id": "lT9u0iIBX8pC",
        "colab_type": "code",
        "outputId": "75db7897-5a18-4d4f-f351-2b9f5866fb52",
        "colab": {
          "base_uri": "https://localhost:8080/",
          "height": 419
        }
      },
      "source": [
        "covid"
      ],
      "execution_count": 3,
      "outputs": [
        {
          "output_type": "execute_result",
          "data": {
            "text/html": [
              "<div>\n",
              "<style scoped>\n",
              "    .dataframe tbody tr th:only-of-type {\n",
              "        vertical-align: middle;\n",
              "    }\n",
              "\n",
              "    .dataframe tbody tr th {\n",
              "        vertical-align: top;\n",
              "    }\n",
              "\n",
              "    .dataframe thead th {\n",
              "        text-align: right;\n",
              "    }\n",
              "</style>\n",
              "<table border=\"1\" class=\"dataframe\">\n",
              "  <thead>\n",
              "    <tr style=\"text-align: right;\">\n",
              "      <th></th>\n",
              "      <th>SNo</th>\n",
              "      <th>ObservationDate</th>\n",
              "      <th>Province/State</th>\n",
              "      <th>Country/Region</th>\n",
              "      <th>Last Update</th>\n",
              "      <th>Confirmed</th>\n",
              "      <th>Deaths</th>\n",
              "      <th>Recovered</th>\n",
              "    </tr>\n",
              "  </thead>\n",
              "  <tbody>\n",
              "    <tr>\n",
              "      <th>0</th>\n",
              "      <td>1</td>\n",
              "      <td>01/22/2020</td>\n",
              "      <td>Anhui</td>\n",
              "      <td>Mainland China</td>\n",
              "      <td>1/22/2020 17:00</td>\n",
              "      <td>1.0</td>\n",
              "      <td>0.0</td>\n",
              "      <td>0.0</td>\n",
              "    </tr>\n",
              "    <tr>\n",
              "      <th>1</th>\n",
              "      <td>2</td>\n",
              "      <td>01/22/2020</td>\n",
              "      <td>Beijing</td>\n",
              "      <td>Mainland China</td>\n",
              "      <td>1/22/2020 17:00</td>\n",
              "      <td>14.0</td>\n",
              "      <td>0.0</td>\n",
              "      <td>0.0</td>\n",
              "    </tr>\n",
              "    <tr>\n",
              "      <th>2</th>\n",
              "      <td>3</td>\n",
              "      <td>01/22/2020</td>\n",
              "      <td>Chongqing</td>\n",
              "      <td>Mainland China</td>\n",
              "      <td>1/22/2020 17:00</td>\n",
              "      <td>6.0</td>\n",
              "      <td>0.0</td>\n",
              "      <td>0.0</td>\n",
              "    </tr>\n",
              "    <tr>\n",
              "      <th>3</th>\n",
              "      <td>4</td>\n",
              "      <td>01/22/2020</td>\n",
              "      <td>Fujian</td>\n",
              "      <td>Mainland China</td>\n",
              "      <td>1/22/2020 17:00</td>\n",
              "      <td>1.0</td>\n",
              "      <td>0.0</td>\n",
              "      <td>0.0</td>\n",
              "    </tr>\n",
              "    <tr>\n",
              "      <th>4</th>\n",
              "      <td>5</td>\n",
              "      <td>01/22/2020</td>\n",
              "      <td>Gansu</td>\n",
              "      <td>Mainland China</td>\n",
              "      <td>1/22/2020 17:00</td>\n",
              "      <td>0.0</td>\n",
              "      <td>0.0</td>\n",
              "      <td>0.0</td>\n",
              "    </tr>\n",
              "    <tr>\n",
              "      <th>...</th>\n",
              "      <td>...</td>\n",
              "      <td>...</td>\n",
              "      <td>...</td>\n",
              "      <td>...</td>\n",
              "      <td>...</td>\n",
              "      <td>...</td>\n",
              "      <td>...</td>\n",
              "      <td>...</td>\n",
              "    </tr>\n",
              "    <tr>\n",
              "      <th>19923</th>\n",
              "      <td>19924</td>\n",
              "      <td>04/29/2020</td>\n",
              "      <td>Wyoming</td>\n",
              "      <td>US</td>\n",
              "      <td>2020-04-30 02:32:27</td>\n",
              "      <td>545.0</td>\n",
              "      <td>7.0</td>\n",
              "      <td>0.0</td>\n",
              "    </tr>\n",
              "    <tr>\n",
              "      <th>19924</th>\n",
              "      <td>19925</td>\n",
              "      <td>04/29/2020</td>\n",
              "      <td>Xinjiang</td>\n",
              "      <td>Mainland China</td>\n",
              "      <td>2020-04-30 02:32:27</td>\n",
              "      <td>76.0</td>\n",
              "      <td>3.0</td>\n",
              "      <td>73.0</td>\n",
              "    </tr>\n",
              "    <tr>\n",
              "      <th>19925</th>\n",
              "      <td>19926</td>\n",
              "      <td>04/29/2020</td>\n",
              "      <td>Yukon</td>\n",
              "      <td>Canada</td>\n",
              "      <td>2020-04-30 02:32:27</td>\n",
              "      <td>11.0</td>\n",
              "      <td>0.0</td>\n",
              "      <td>0.0</td>\n",
              "    </tr>\n",
              "    <tr>\n",
              "      <th>19926</th>\n",
              "      <td>19927</td>\n",
              "      <td>04/29/2020</td>\n",
              "      <td>Yunnan</td>\n",
              "      <td>Mainland China</td>\n",
              "      <td>2020-04-30 02:32:27</td>\n",
              "      <td>185.0</td>\n",
              "      <td>2.0</td>\n",
              "      <td>181.0</td>\n",
              "    </tr>\n",
              "    <tr>\n",
              "      <th>19927</th>\n",
              "      <td>19928</td>\n",
              "      <td>04/29/2020</td>\n",
              "      <td>Zhejiang</td>\n",
              "      <td>Mainland China</td>\n",
              "      <td>2020-04-30 02:32:27</td>\n",
              "      <td>1268.0</td>\n",
              "      <td>1.0</td>\n",
              "      <td>1263.0</td>\n",
              "    </tr>\n",
              "  </tbody>\n",
              "</table>\n",
              "<p>19928 rows × 8 columns</p>\n",
              "</div>"
            ],
            "text/plain": [
              "         SNo ObservationDate Province/State  ... Confirmed Deaths  Recovered\n",
              "0          1      01/22/2020          Anhui  ...       1.0    0.0        0.0\n",
              "1          2      01/22/2020        Beijing  ...      14.0    0.0        0.0\n",
              "2          3      01/22/2020      Chongqing  ...       6.0    0.0        0.0\n",
              "3          4      01/22/2020         Fujian  ...       1.0    0.0        0.0\n",
              "4          5      01/22/2020          Gansu  ...       0.0    0.0        0.0\n",
              "...      ...             ...            ...  ...       ...    ...        ...\n",
              "19923  19924      04/29/2020        Wyoming  ...     545.0    7.0        0.0\n",
              "19924  19925      04/29/2020       Xinjiang  ...      76.0    3.0       73.0\n",
              "19925  19926      04/29/2020          Yukon  ...      11.0    0.0        0.0\n",
              "19926  19927      04/29/2020         Yunnan  ...     185.0    2.0      181.0\n",
              "19927  19928      04/29/2020       Zhejiang  ...    1268.0    1.0     1263.0\n",
              "\n",
              "[19928 rows x 8 columns]"
            ]
          },
          "metadata": {
            "tags": []
          },
          "execution_count": 3
        }
      ]
    },
    {
      "cell_type": "code",
      "metadata": {
        "id": "9jXj5WAyZnXx",
        "colab_type": "code",
        "colab": {}
      },
      "source": [
        "covid.drop('SNo',axis=1,inplace=True)"
      ],
      "execution_count": 0,
      "outputs": []
    },
    {
      "cell_type": "code",
      "metadata": {
        "id": "YtwjchXwaTH8",
        "colab_type": "code",
        "colab": {}
      },
      "source": [
        "covid['ObservationDate']=pd.to_datetime(covid['ObservationDate'])"
      ],
      "execution_count": 0,
      "outputs": []
    },
    {
      "cell_type": "code",
      "metadata": {
        "id": "xBBBZt65afuk",
        "colab_type": "code",
        "outputId": "5e7be2d7-1fea-4606-aaa5-cf9d4f05909c",
        "colab": {
          "base_uri": "https://localhost:8080/",
          "height": 419
        }
      },
      "source": [
        "covid"
      ],
      "execution_count": 6,
      "outputs": [
        {
          "output_type": "execute_result",
          "data": {
            "text/html": [
              "<div>\n",
              "<style scoped>\n",
              "    .dataframe tbody tr th:only-of-type {\n",
              "        vertical-align: middle;\n",
              "    }\n",
              "\n",
              "    .dataframe tbody tr th {\n",
              "        vertical-align: top;\n",
              "    }\n",
              "\n",
              "    .dataframe thead th {\n",
              "        text-align: right;\n",
              "    }\n",
              "</style>\n",
              "<table border=\"1\" class=\"dataframe\">\n",
              "  <thead>\n",
              "    <tr style=\"text-align: right;\">\n",
              "      <th></th>\n",
              "      <th>ObservationDate</th>\n",
              "      <th>Province/State</th>\n",
              "      <th>Country/Region</th>\n",
              "      <th>Last Update</th>\n",
              "      <th>Confirmed</th>\n",
              "      <th>Deaths</th>\n",
              "      <th>Recovered</th>\n",
              "    </tr>\n",
              "  </thead>\n",
              "  <tbody>\n",
              "    <tr>\n",
              "      <th>0</th>\n",
              "      <td>2020-01-22</td>\n",
              "      <td>Anhui</td>\n",
              "      <td>Mainland China</td>\n",
              "      <td>1/22/2020 17:00</td>\n",
              "      <td>1.0</td>\n",
              "      <td>0.0</td>\n",
              "      <td>0.0</td>\n",
              "    </tr>\n",
              "    <tr>\n",
              "      <th>1</th>\n",
              "      <td>2020-01-22</td>\n",
              "      <td>Beijing</td>\n",
              "      <td>Mainland China</td>\n",
              "      <td>1/22/2020 17:00</td>\n",
              "      <td>14.0</td>\n",
              "      <td>0.0</td>\n",
              "      <td>0.0</td>\n",
              "    </tr>\n",
              "    <tr>\n",
              "      <th>2</th>\n",
              "      <td>2020-01-22</td>\n",
              "      <td>Chongqing</td>\n",
              "      <td>Mainland China</td>\n",
              "      <td>1/22/2020 17:00</td>\n",
              "      <td>6.0</td>\n",
              "      <td>0.0</td>\n",
              "      <td>0.0</td>\n",
              "    </tr>\n",
              "    <tr>\n",
              "      <th>3</th>\n",
              "      <td>2020-01-22</td>\n",
              "      <td>Fujian</td>\n",
              "      <td>Mainland China</td>\n",
              "      <td>1/22/2020 17:00</td>\n",
              "      <td>1.0</td>\n",
              "      <td>0.0</td>\n",
              "      <td>0.0</td>\n",
              "    </tr>\n",
              "    <tr>\n",
              "      <th>4</th>\n",
              "      <td>2020-01-22</td>\n",
              "      <td>Gansu</td>\n",
              "      <td>Mainland China</td>\n",
              "      <td>1/22/2020 17:00</td>\n",
              "      <td>0.0</td>\n",
              "      <td>0.0</td>\n",
              "      <td>0.0</td>\n",
              "    </tr>\n",
              "    <tr>\n",
              "      <th>...</th>\n",
              "      <td>...</td>\n",
              "      <td>...</td>\n",
              "      <td>...</td>\n",
              "      <td>...</td>\n",
              "      <td>...</td>\n",
              "      <td>...</td>\n",
              "      <td>...</td>\n",
              "    </tr>\n",
              "    <tr>\n",
              "      <th>19923</th>\n",
              "      <td>2020-04-29</td>\n",
              "      <td>Wyoming</td>\n",
              "      <td>US</td>\n",
              "      <td>2020-04-30 02:32:27</td>\n",
              "      <td>545.0</td>\n",
              "      <td>7.0</td>\n",
              "      <td>0.0</td>\n",
              "    </tr>\n",
              "    <tr>\n",
              "      <th>19924</th>\n",
              "      <td>2020-04-29</td>\n",
              "      <td>Xinjiang</td>\n",
              "      <td>Mainland China</td>\n",
              "      <td>2020-04-30 02:32:27</td>\n",
              "      <td>76.0</td>\n",
              "      <td>3.0</td>\n",
              "      <td>73.0</td>\n",
              "    </tr>\n",
              "    <tr>\n",
              "      <th>19925</th>\n",
              "      <td>2020-04-29</td>\n",
              "      <td>Yukon</td>\n",
              "      <td>Canada</td>\n",
              "      <td>2020-04-30 02:32:27</td>\n",
              "      <td>11.0</td>\n",
              "      <td>0.0</td>\n",
              "      <td>0.0</td>\n",
              "    </tr>\n",
              "    <tr>\n",
              "      <th>19926</th>\n",
              "      <td>2020-04-29</td>\n",
              "      <td>Yunnan</td>\n",
              "      <td>Mainland China</td>\n",
              "      <td>2020-04-30 02:32:27</td>\n",
              "      <td>185.0</td>\n",
              "      <td>2.0</td>\n",
              "      <td>181.0</td>\n",
              "    </tr>\n",
              "    <tr>\n",
              "      <th>19927</th>\n",
              "      <td>2020-04-29</td>\n",
              "      <td>Zhejiang</td>\n",
              "      <td>Mainland China</td>\n",
              "      <td>2020-04-30 02:32:27</td>\n",
              "      <td>1268.0</td>\n",
              "      <td>1.0</td>\n",
              "      <td>1263.0</td>\n",
              "    </tr>\n",
              "  </tbody>\n",
              "</table>\n",
              "<p>19928 rows × 7 columns</p>\n",
              "</div>"
            ],
            "text/plain": [
              "      ObservationDate Province/State  ... Deaths Recovered\n",
              "0          2020-01-22          Anhui  ...    0.0       0.0\n",
              "1          2020-01-22        Beijing  ...    0.0       0.0\n",
              "2          2020-01-22      Chongqing  ...    0.0       0.0\n",
              "3          2020-01-22         Fujian  ...    0.0       0.0\n",
              "4          2020-01-22          Gansu  ...    0.0       0.0\n",
              "...               ...            ...  ...    ...       ...\n",
              "19923      2020-04-29        Wyoming  ...    7.0       0.0\n",
              "19924      2020-04-29       Xinjiang  ...    3.0      73.0\n",
              "19925      2020-04-29          Yukon  ...    0.0       0.0\n",
              "19926      2020-04-29         Yunnan  ...    2.0     181.0\n",
              "19927      2020-04-29       Zhejiang  ...    1.0    1263.0\n",
              "\n",
              "[19928 rows x 7 columns]"
            ]
          },
          "metadata": {
            "tags": []
          },
          "execution_count": 6
        }
      ]
    },
    {
      "cell_type": "code",
      "metadata": {
        "id": "sKh9Hcp4agwm",
        "colab_type": "code",
        "colab": {}
      },
      "source": [
        "covid_datewise=covid.groupby(['ObservationDate']).agg({'Confirmed':'sum','Deaths':'sum','Recovered':'sum'})"
      ],
      "execution_count": 0,
      "outputs": []
    },
    {
      "cell_type": "code",
      "metadata": {
        "id": "5YQiN1n5brka",
        "colab_type": "code",
        "outputId": "3e806b20-f4b3-4b79-929c-19beec747ca6",
        "colab": {
          "base_uri": "https://localhost:8080/",
          "height": 450
        }
      },
      "source": [
        "covid_datewise"
      ],
      "execution_count": 8,
      "outputs": [
        {
          "output_type": "execute_result",
          "data": {
            "text/html": [
              "<div>\n",
              "<style scoped>\n",
              "    .dataframe tbody tr th:only-of-type {\n",
              "        vertical-align: middle;\n",
              "    }\n",
              "\n",
              "    .dataframe tbody tr th {\n",
              "        vertical-align: top;\n",
              "    }\n",
              "\n",
              "    .dataframe thead th {\n",
              "        text-align: right;\n",
              "    }\n",
              "</style>\n",
              "<table border=\"1\" class=\"dataframe\">\n",
              "  <thead>\n",
              "    <tr style=\"text-align: right;\">\n",
              "      <th></th>\n",
              "      <th>Confirmed</th>\n",
              "      <th>Deaths</th>\n",
              "      <th>Recovered</th>\n",
              "    </tr>\n",
              "    <tr>\n",
              "      <th>ObservationDate</th>\n",
              "      <th></th>\n",
              "      <th></th>\n",
              "      <th></th>\n",
              "    </tr>\n",
              "  </thead>\n",
              "  <tbody>\n",
              "    <tr>\n",
              "      <th>2020-01-22</th>\n",
              "      <td>555.0</td>\n",
              "      <td>17.0</td>\n",
              "      <td>28.0</td>\n",
              "    </tr>\n",
              "    <tr>\n",
              "      <th>2020-01-23</th>\n",
              "      <td>653.0</td>\n",
              "      <td>18.0</td>\n",
              "      <td>30.0</td>\n",
              "    </tr>\n",
              "    <tr>\n",
              "      <th>2020-01-24</th>\n",
              "      <td>941.0</td>\n",
              "      <td>26.0</td>\n",
              "      <td>36.0</td>\n",
              "    </tr>\n",
              "    <tr>\n",
              "      <th>2020-01-25</th>\n",
              "      <td>1438.0</td>\n",
              "      <td>42.0</td>\n",
              "      <td>39.0</td>\n",
              "    </tr>\n",
              "    <tr>\n",
              "      <th>2020-01-26</th>\n",
              "      <td>2118.0</td>\n",
              "      <td>56.0</td>\n",
              "      <td>52.0</td>\n",
              "    </tr>\n",
              "    <tr>\n",
              "      <th>...</th>\n",
              "      <td>...</td>\n",
              "      <td>...</td>\n",
              "      <td>...</td>\n",
              "    </tr>\n",
              "    <tr>\n",
              "      <th>2020-04-25</th>\n",
              "      <td>2896746.0</td>\n",
              "      <td>202846.0</td>\n",
              "      <td>816685.0</td>\n",
              "    </tr>\n",
              "    <tr>\n",
              "      <th>2020-04-26</th>\n",
              "      <td>2971475.0</td>\n",
              "      <td>206544.0</td>\n",
              "      <td>865733.0</td>\n",
              "    </tr>\n",
              "    <tr>\n",
              "      <th>2020-04-27</th>\n",
              "      <td>3041764.0</td>\n",
              "      <td>211167.0</td>\n",
              "      <td>893967.0</td>\n",
              "    </tr>\n",
              "    <tr>\n",
              "      <th>2020-04-28</th>\n",
              "      <td>3116398.0</td>\n",
              "      <td>217153.0</td>\n",
              "      <td>928658.0</td>\n",
              "    </tr>\n",
              "    <tr>\n",
              "      <th>2020-04-29</th>\n",
              "      <td>3193886.0</td>\n",
              "      <td>227638.0</td>\n",
              "      <td>972719.0</td>\n",
              "    </tr>\n",
              "  </tbody>\n",
              "</table>\n",
              "<p>99 rows × 3 columns</p>\n",
              "</div>"
            ],
            "text/plain": [
              "                 Confirmed    Deaths  Recovered\n",
              "ObservationDate                                \n",
              "2020-01-22           555.0      17.0       28.0\n",
              "2020-01-23           653.0      18.0       30.0\n",
              "2020-01-24           941.0      26.0       36.0\n",
              "2020-01-25          1438.0      42.0       39.0\n",
              "2020-01-26          2118.0      56.0       52.0\n",
              "...                    ...       ...        ...\n",
              "2020-04-25       2896746.0  202846.0   816685.0\n",
              "2020-04-26       2971475.0  206544.0   865733.0\n",
              "2020-04-27       3041764.0  211167.0   893967.0\n",
              "2020-04-28       3116398.0  217153.0   928658.0\n",
              "2020-04-29       3193886.0  227638.0   972719.0\n",
              "\n",
              "[99 rows x 3 columns]"
            ]
          },
          "metadata": {
            "tags": []
          },
          "execution_count": 8
        }
      ]
    },
    {
      "cell_type": "code",
      "metadata": {
        "id": "ijnGXyxGb3Jy",
        "colab_type": "code",
        "colab": {}
      },
      "source": [
        "## Bar Graph of date vs confirmed cases "
      ],
      "execution_count": 0,
      "outputs": []
    },
    {
      "cell_type": "code",
      "metadata": {
        "id": "gFa28rI5cCTc",
        "colab_type": "code",
        "outputId": "14c0075e-6ca6-446d-f3cc-0cd6bf19bfd9",
        "colab": {
          "base_uri": "https://localhost:8080/",
          "height": 622
        }
      },
      "source": [
        "sns.set_style('darkgrid')\n",
        "plt.figure(figsize=(15,9))\n",
        "sns.barplot(x=covid_datewise.index.date,y=covid_datewise['Confirmed'])\n",
        "plt.title('time series data of confirmed cases', fontsize=18)\n",
        "plt.xticks(rotation=90)\n",
        "plt.show"
      ],
      "execution_count": 10,
      "outputs": [
        {
          "output_type": "execute_result",
          "data": {
            "text/plain": [
              "<function matplotlib.pyplot.show>"
            ]
          },
          "metadata": {
            "tags": []
          },
          "execution_count": 10
        },
        {
          "output_type": "display_data",
          "data": {
            "image/png": "[encoded data removed]",
            "text/plain": [
              "<Figure size 1080x648 with 1 Axes>"
            ]
          },
          "metadata": {
            "tags": []
          }
        }
      ]
    },
    {
      "cell_type": "code",
      "metadata": {
        "id": "wVV0ixrai-cN",
        "colab_type": "code",
        "colab": {}
      },
      "source": [
        "covid_datewise['Mortality Rate']=(covid_datewise['Deaths']/covid_datewise['Confirmed'])*100"
      ],
      "execution_count": 0,
      "outputs": []
    },
    {
      "cell_type": "code",
      "metadata": {
        "id": "2NepFkEheRwv",
        "colab_type": "code",
        "colab": {}
      },
      "source": [
        "# covid_datewise['Active']=(covid_datewise['Confirmed']-covid_datewise['Deaths']-covid_datewise['Recovered'])\n"
      ],
      "execution_count": 0,
      "outputs": []
    },
    {
      "cell_type": "code",
      "metadata": {
        "id": "l2fYJ4gWewKV",
        "colab_type": "code",
        "outputId": "8ac3065f-c0e3-4233-b351-964e38de6ee7",
        "colab": {
          "base_uri": "https://localhost:8080/",
          "height": 596
        }
      },
      "source": [
        "sns.set_style('darkgrid')\n",
        "plt.figure(figsize=(15,9))\n",
        "sns.barplot(x=covid_datewise.index.date,y=covid_datewise['Confirmed']-covid_datewise['Deaths']-covid_datewise['Recovered'],palette = \"YlOrRd\")\n",
        "plt.xticks(rotation=90)\n",
        "plt.show()\n"
      ],
      "execution_count": 12,
      "outputs": [
        {
          "output_type": "display_data",
          "data": {
            "image/png": "[encoded data removed]",
            "text/plain": [
              "<Figure size 1080x648 with 1 Axes>"
            ]
          },
          "metadata": {
            "tags": []
          }
        }
      ]
    },
    {
      "cell_type": "code",
      "metadata": {
        "id": "i4gjvzX1gqo1",
        "colab_type": "code",
        "colab": {}
      },
      "source": [
        "#mortality rate "
      ],
      "execution_count": 0,
      "outputs": []
    },
    {
      "cell_type": "markdown",
      "metadata": {
        "id": "UNwaEo5Cf1-9",
        "colab_type": "text"
      },
      "source": [
        ""
      ]
    },
    {
      "cell_type": "code",
      "metadata": {
        "id": "4Uv-g7RYi7Cp",
        "colab_type": "code",
        "colab": {}
      },
      "source": [
        "covid_datewise['Mortality Rate']=(covid_datewise['Deaths']/covid_datewise['Confirmed'])*100"
      ],
      "execution_count": 0,
      "outputs": []
    },
    {
      "cell_type": "code",
      "metadata": {
        "id": "QaRqgJu_f2fk",
        "colab_type": "code",
        "outputId": "66b6c402-43f8-4e16-920a-a8f1de1a0172",
        "colab": {
          "base_uri": "https://localhost:8080/",
          "height": 450
        }
      },
      "source": [
        "covid_datewise"
      ],
      "execution_count": 15,
      "outputs": [
        {
          "output_type": "execute_result",
          "data": {
            "text/html": [
              "<div>\n",
              "<style scoped>\n",
              "    .dataframe tbody tr th:only-of-type {\n",
              "        vertical-align: middle;\n",
              "    }\n",
              "\n",
              "    .dataframe tbody tr th {\n",
              "        vertical-align: top;\n",
              "    }\n",
              "\n",
              "    .dataframe thead th {\n",
              "        text-align: right;\n",
              "    }\n",
              "</style>\n",
              "<table border=\"1\" class=\"dataframe\">\n",
              "  <thead>\n",
              "    <tr style=\"text-align: right;\">\n",
              "      <th></th>\n",
              "      <th>Confirmed</th>\n",
              "      <th>Deaths</th>\n",
              "      <th>Recovered</th>\n",
              "      <th>Mortality Rate</th>\n",
              "    </tr>\n",
              "    <tr>\n",
              "      <th>ObservationDate</th>\n",
              "      <th></th>\n",
              "      <th></th>\n",
              "      <th></th>\n",
              "      <th></th>\n",
              "    </tr>\n",
              "  </thead>\n",
              "  <tbody>\n",
              "    <tr>\n",
              "      <th>2020-01-22</th>\n",
              "      <td>555.0</td>\n",
              "      <td>17.0</td>\n",
              "      <td>28.0</td>\n",
              "      <td>3.063063</td>\n",
              "    </tr>\n",
              "    <tr>\n",
              "      <th>2020-01-23</th>\n",
              "      <td>653.0</td>\n",
              "      <td>18.0</td>\n",
              "      <td>30.0</td>\n",
              "      <td>2.756508</td>\n",
              "    </tr>\n",
              "    <tr>\n",
              "      <th>2020-01-24</th>\n",
              "      <td>941.0</td>\n",
              "      <td>26.0</td>\n",
              "      <td>36.0</td>\n",
              "      <td>2.763018</td>\n",
              "    </tr>\n",
              "    <tr>\n",
              "      <th>2020-01-25</th>\n",
              "      <td>1438.0</td>\n",
              "      <td>42.0</td>\n",
              "      <td>39.0</td>\n",
              "      <td>2.920723</td>\n",
              "    </tr>\n",
              "    <tr>\n",
              "      <th>2020-01-26</th>\n",
              "      <td>2118.0</td>\n",
              "      <td>56.0</td>\n",
              "      <td>52.0</td>\n",
              "      <td>2.644004</td>\n",
              "    </tr>\n",
              "    <tr>\n",
              "      <th>...</th>\n",
              "      <td>...</td>\n",
              "      <td>...</td>\n",
              "      <td>...</td>\n",
              "      <td>...</td>\n",
              "    </tr>\n",
              "    <tr>\n",
              "      <th>2020-04-25</th>\n",
              "      <td>2896746.0</td>\n",
              "      <td>202846.0</td>\n",
              "      <td>816685.0</td>\n",
              "      <td>7.002547</td>\n",
              "    </tr>\n",
              "    <tr>\n",
              "      <th>2020-04-26</th>\n",
              "      <td>2971475.0</td>\n",
              "      <td>206544.0</td>\n",
              "      <td>865733.0</td>\n",
              "      <td>6.950891</td>\n",
              "    </tr>\n",
              "    <tr>\n",
              "      <th>2020-04-27</th>\n",
              "      <td>3041764.0</td>\n",
              "      <td>211167.0</td>\n",
              "      <td>893967.0</td>\n",
              "      <td>6.942255</td>\n",
              "    </tr>\n",
              "    <tr>\n",
              "      <th>2020-04-28</th>\n",
              "      <td>3116398.0</td>\n",
              "      <td>217153.0</td>\n",
              "      <td>928658.0</td>\n",
              "      <td>6.968077</td>\n",
              "    </tr>\n",
              "    <tr>\n",
              "      <th>2020-04-29</th>\n",
              "      <td>3193886.0</td>\n",
              "      <td>227638.0</td>\n",
              "      <td>972719.0</td>\n",
              "      <td>7.127305</td>\n",
              "    </tr>\n",
              "  </tbody>\n",
              "</table>\n",
              "<p>99 rows × 4 columns</p>\n",
              "</div>"
            ],
            "text/plain": [
              "                 Confirmed    Deaths  Recovered  Mortality Rate\n",
              "ObservationDate                                                \n",
              "2020-01-22           555.0      17.0       28.0        3.063063\n",
              "2020-01-23           653.0      18.0       30.0        2.756508\n",
              "2020-01-24           941.0      26.0       36.0        2.763018\n",
              "2020-01-25          1438.0      42.0       39.0        2.920723\n",
              "2020-01-26          2118.0      56.0       52.0        2.644004\n",
              "...                    ...       ...        ...             ...\n",
              "2020-04-25       2896746.0  202846.0   816685.0        7.002547\n",
              "2020-04-26       2971475.0  206544.0   865733.0        6.950891\n",
              "2020-04-27       3041764.0  211167.0   893967.0        6.942255\n",
              "2020-04-28       3116398.0  217153.0   928658.0        6.968077\n",
              "2020-04-29       3193886.0  227638.0   972719.0        7.127305\n",
              "\n",
              "[99 rows x 4 columns]"
            ]
          },
          "metadata": {
            "tags": []
          },
          "execution_count": 15
        }
      ]
    },
    {
      "cell_type": "code",
      "metadata": {
        "id": "h645AcasfT4I",
        "colab_type": "code",
        "outputId": "b801b2e5-8922-4443-d2a1-9847305f615a",
        "colab": {
          "base_uri": "https://localhost:8080/",
          "height": 483
        }
      },
      "source": [
        "plt.figure(figsize=(15,8))\n",
        "plt.plot(covid_datewise['Mortality Rate'],label='Mortality Rate')\n",
        "plt.show()"
      ],
      "execution_count": 16,
      "outputs": [
        {
          "output_type": "display_data",
          "data": {
            "image/png": "[encoded data removed]",
            "text/plain": [
              "<Figure size 1080x576 with 1 Axes>"
            ]
          },
          "metadata": {
            "tags": []
          }
        }
      ]
    },
    {
      "cell_type": "code",
      "metadata": {
        "id": "_g8KXKKUcof_",
        "colab_type": "code",
        "colab": {}
      },
      "source": [
        "#Recovery Rate"
      ],
      "execution_count": 0,
      "outputs": []
    },
    {
      "cell_type": "code",
      "metadata": {
        "id": "bwxT1ezwkAbO",
        "colab_type": "code",
        "colab": {}
      },
      "source": [
        "covid_datewise['Recovered']=(covid_datewise['Recovered']/covid_datewise['Confirmed'])*100"
      ],
      "execution_count": 0,
      "outputs": []
    },
    {
      "cell_type": "code",
      "metadata": {
        "id": "ap4UVdkgkcyW",
        "colab_type": "code",
        "outputId": "4d9985fa-a244-4703-a122-0dfbe04acf19",
        "colab": {
          "base_uri": "https://localhost:8080/",
          "height": 374
        }
      },
      "source": [
        "plt.figure(figsize=(12,6))\n",
        "plt.plot(covid_datewise['Recovered'], label = 'Recovered')\n",
        "plt.show()\n"
      ],
      "execution_count": 19,
      "outputs": [
        {
          "output_type": "display_data",
          "data": {
            "image/png": "[encoded data removed]",
            "text/plain": [
              "<Figure size 864x432 with 1 Axes>"
            ]
          },
          "metadata": {
            "tags": []
          }
        }
      ]
    },
    {
      "cell_type": "code",
      "metadata": {
        "id": "6RT6lCZ9kr-I",
        "colab_type": "code",
        "colab": {}
      },
      "source": [
        "#Forecasting"
      ],
      "execution_count": 0,
      "outputs": []
    },
    {
      "cell_type": "markdown",
      "metadata": {
        "id": "RxY_1p3DlBao",
        "colab_type": "text"
      },
      "source": [
        ""
      ]
    },
    {
      "cell_type": "code",
      "metadata": {
        "id": "5W1qGGLBlNLP",
        "colab_type": "code",
        "colab": {}
      },
      "source": [
        "covid_datewise['Days']=covid_datewise.index-covid_datewise.index[0]"
      ],
      "execution_count": 0,
      "outputs": []
    },
    {
      "cell_type": "markdown",
      "metadata": {
        "id": "8P4g4rvyk5GW",
        "colab_type": "text"
      },
      "source": [
        ""
      ]
    },
    {
      "cell_type": "code",
      "metadata": {
        "id": "WSuPoN3bl7Kr",
        "colab_type": "code",
        "colab": {}
      },
      "source": [
        "covid_datewise['Days']=covid_datewise['Days'].dt.days"
      ],
      "execution_count": 0,
      "outputs": []
    },
    {
      "cell_type": "code",
      "metadata": {
        "id": "5RJ4U_uLk5ts",
        "colab_type": "code",
        "outputId": "ce4b8f8c-90be-4907-bb65-e622080c5549",
        "colab": {
          "base_uri": "https://localhost:8080/",
          "height": 450
        }
      },
      "source": [
        "covid_datewise"
      ],
      "execution_count": 23,
      "outputs": [
        {
          "output_type": "execute_result",
          "data": {
            "text/html": [
              "<div>\n",
              "<style scoped>\n",
              "    .dataframe tbody tr th:only-of-type {\n",
              "        vertical-align: middle;\n",
              "    }\n",
              "\n",
              "    .dataframe tbody tr th {\n",
              "        vertical-align: top;\n",
              "    }\n",
              "\n",
              "    .dataframe thead th {\n",
              "        text-align: right;\n",
              "    }\n",
              "</style>\n",
              "<table border=\"1\" class=\"dataframe\">\n",
              "  <thead>\n",
              "    <tr style=\"text-align: right;\">\n",
              "      <th></th>\n",
              "      <th>Confirmed</th>\n",
              "      <th>Deaths</th>\n",
              "      <th>Recovered</th>\n",
              "      <th>Mortality Rate</th>\n",
              "      <th>Days</th>\n",
              "    </tr>\n",
              "    <tr>\n",
              "      <th>ObservationDate</th>\n",
              "      <th></th>\n",
              "      <th></th>\n",
              "      <th></th>\n",
              "      <th></th>\n",
              "      <th></th>\n",
              "    </tr>\n",
              "  </thead>\n",
              "  <tbody>\n",
              "    <tr>\n",
              "      <th>2020-01-22</th>\n",
              "      <td>555.0</td>\n",
              "      <td>17.0</td>\n",
              "      <td>5.045045</td>\n",
              "      <td>3.063063</td>\n",
              "      <td>0</td>\n",
              "    </tr>\n",
              "    <tr>\n",
              "      <th>2020-01-23</th>\n",
              "      <td>653.0</td>\n",
              "      <td>18.0</td>\n",
              "      <td>4.594181</td>\n",
              "      <td>2.756508</td>\n",
              "      <td>1</td>\n",
              "    </tr>\n",
              "    <tr>\n",
              "      <th>2020-01-24</th>\n",
              "      <td>941.0</td>\n",
              "      <td>26.0</td>\n",
              "      <td>3.825717</td>\n",
              "      <td>2.763018</td>\n",
              "      <td>2</td>\n",
              "    </tr>\n",
              "    <tr>\n",
              "      <th>2020-01-25</th>\n",
              "      <td>1438.0</td>\n",
              "      <td>42.0</td>\n",
              "      <td>2.712100</td>\n",
              "      <td>2.920723</td>\n",
              "      <td>3</td>\n",
              "    </tr>\n",
              "    <tr>\n",
              "      <th>2020-01-26</th>\n",
              "      <td>2118.0</td>\n",
              "      <td>56.0</td>\n",
              "      <td>2.455146</td>\n",
              "      <td>2.644004</td>\n",
              "      <td>4</td>\n",
              "    </tr>\n",
              "    <tr>\n",
              "      <th>...</th>\n",
              "      <td>...</td>\n",
              "      <td>...</td>\n",
              "      <td>...</td>\n",
              "      <td>...</td>\n",
              "      <td>...</td>\n",
              "    </tr>\n",
              "    <tr>\n",
              "      <th>2020-04-25</th>\n",
              "      <td>2896746.0</td>\n",
              "      <td>202846.0</td>\n",
              "      <td>28.193186</td>\n",
              "      <td>7.002547</td>\n",
              "      <td>94</td>\n",
              "    </tr>\n",
              "    <tr>\n",
              "      <th>2020-04-26</th>\n",
              "      <td>2971475.0</td>\n",
              "      <td>206544.0</td>\n",
              "      <td>29.134790</td>\n",
              "      <td>6.950891</td>\n",
              "      <td>95</td>\n",
              "    </tr>\n",
              "    <tr>\n",
              "      <th>2020-04-27</th>\n",
              "      <td>3041764.0</td>\n",
              "      <td>211167.0</td>\n",
              "      <td>29.389755</td>\n",
              "      <td>6.942255</td>\n",
              "      <td>96</td>\n",
              "    </tr>\n",
              "    <tr>\n",
              "      <th>2020-04-28</th>\n",
              "      <td>3116398.0</td>\n",
              "      <td>217153.0</td>\n",
              "      <td>29.799082</td>\n",
              "      <td>6.968077</td>\n",
              "      <td>97</td>\n",
              "    </tr>\n",
              "    <tr>\n",
              "      <th>2020-04-29</th>\n",
              "      <td>3193886.0</td>\n",
              "      <td>227638.0</td>\n",
              "      <td>30.455658</td>\n",
              "      <td>7.127305</td>\n",
              "      <td>98</td>\n",
              "    </tr>\n",
              "  </tbody>\n",
              "</table>\n",
              "<p>99 rows × 5 columns</p>\n",
              "</div>"
            ],
            "text/plain": [
              "                 Confirmed    Deaths  Recovered  Mortality Rate  Days\n",
              "ObservationDate                                                      \n",
              "2020-01-22           555.0      17.0   5.045045        3.063063     0\n",
              "2020-01-23           653.0      18.0   4.594181        2.756508     1\n",
              "2020-01-24           941.0      26.0   3.825717        2.763018     2\n",
              "2020-01-25          1438.0      42.0   2.712100        2.920723     3\n",
              "2020-01-26          2118.0      56.0   2.455146        2.644004     4\n",
              "...                    ...       ...        ...             ...   ...\n",
              "2020-04-25       2896746.0  202846.0  28.193186        7.002547    94\n",
              "2020-04-26       2971475.0  206544.0  29.134790        6.950891    95\n",
              "2020-04-27       3041764.0  211167.0  29.389755        6.942255    96\n",
              "2020-04-28       3116398.0  217153.0  29.799082        6.968077    97\n",
              "2020-04-29       3193886.0  227638.0  30.455658        7.127305    98\n",
              "\n",
              "[99 rows x 5 columns]"
            ]
          },
          "metadata": {
            "tags": []
          },
          "execution_count": 23
        }
      ]
    },
    {
      "cell_type": "markdown",
      "metadata": {
        "id": "xiYT1sagnGK7",
        "colab_type": "text"
      },
      "source": [
        ""
      ]
    },
    {
      "cell_type": "code",
      "metadata": {
        "id": "aJyTAcCxn9Cp",
        "colab_type": "code",
        "colab": {}
      },
      "source": [
        "train_ml = covid_datewise.iloc[: int(covid_datewise.shape[0] * 0.90)]\n",
        "test_ml = covid_datewise.iloc[int(covid_datewise.shape[0] * 0.90) : ]\n"
      ],
      "execution_count": 0,
      "outputs": []
    },
    {
      "cell_type": "code",
      "metadata": {
        "id": "Nmm0mFr9mZHV",
        "colab_type": "code",
        "outputId": "1bf747a1-6162-4532-8a91-4bc6614ad20b",
        "colab": {
          "base_uri": "https://localhost:8080/",
          "height": 390
        }
      },
      "source": [
        "test_ml"
      ],
      "execution_count": 26,
      "outputs": [
        {
          "output_type": "execute_result",
          "data": {
            "text/html": [
              "<div>\n",
              "<style scoped>\n",
              "    .dataframe tbody tr th:only-of-type {\n",
              "        vertical-align: middle;\n",
              "    }\n",
              "\n",
              "    .dataframe tbody tr th {\n",
              "        vertical-align: top;\n",
              "    }\n",
              "\n",
              "    .dataframe thead th {\n",
              "        text-align: right;\n",
              "    }\n",
              "</style>\n",
              "<table border=\"1\" class=\"dataframe\">\n",
              "  <thead>\n",
              "    <tr style=\"text-align: right;\">\n",
              "      <th></th>\n",
              "      <th>Confirmed</th>\n",
              "      <th>Deaths</th>\n",
              "      <th>Recovered</th>\n",
              "      <th>Mortality Rate</th>\n",
              "      <th>Days</th>\n",
              "    </tr>\n",
              "    <tr>\n",
              "      <th>ObservationDate</th>\n",
              "      <th></th>\n",
              "      <th></th>\n",
              "      <th></th>\n",
              "      <th></th>\n",
              "      <th></th>\n",
              "    </tr>\n",
              "  </thead>\n",
              "  <tbody>\n",
              "    <tr>\n",
              "      <th>2020-04-20</th>\n",
              "      <td>2472259.0</td>\n",
              "      <td>169986.0</td>\n",
              "      <td>26.119351</td>\n",
              "      <td>6.875736</td>\n",
              "      <td>89</td>\n",
              "    </tr>\n",
              "    <tr>\n",
              "      <th>2020-04-21</th>\n",
              "      <td>2549123.0</td>\n",
              "      <td>176583.0</td>\n",
              "      <td>26.668741</td>\n",
              "      <td>6.927206</td>\n",
              "      <td>90</td>\n",
              "    </tr>\n",
              "    <tr>\n",
              "      <th>2020-04-22</th>\n",
              "      <td>2623960.0</td>\n",
              "      <td>183066.0</td>\n",
              "      <td>27.046678</td>\n",
              "      <td>6.976707</td>\n",
              "      <td>91</td>\n",
              "    </tr>\n",
              "    <tr>\n",
              "      <th>2020-04-23</th>\n",
              "      <td>2708885.0</td>\n",
              "      <td>190858.0</td>\n",
              "      <td>27.261622</td>\n",
              "      <td>7.045629</td>\n",
              "      <td>92</td>\n",
              "    </tr>\n",
              "    <tr>\n",
              "      <th>2020-04-24</th>\n",
              "      <td>2810715.0</td>\n",
              "      <td>197151.0</td>\n",
              "      <td>28.228405</td>\n",
              "      <td>7.014265</td>\n",
              "      <td>93</td>\n",
              "    </tr>\n",
              "    <tr>\n",
              "      <th>2020-04-25</th>\n",
              "      <td>2896746.0</td>\n",
              "      <td>202846.0</td>\n",
              "      <td>28.193186</td>\n",
              "      <td>7.002547</td>\n",
              "      <td>94</td>\n",
              "    </tr>\n",
              "    <tr>\n",
              "      <th>2020-04-26</th>\n",
              "      <td>2971475.0</td>\n",
              "      <td>206544.0</td>\n",
              "      <td>29.134790</td>\n",
              "      <td>6.950891</td>\n",
              "      <td>95</td>\n",
              "    </tr>\n",
              "    <tr>\n",
              "      <th>2020-04-27</th>\n",
              "      <td>3041764.0</td>\n",
              "      <td>211167.0</td>\n",
              "      <td>29.389755</td>\n",
              "      <td>6.942255</td>\n",
              "      <td>96</td>\n",
              "    </tr>\n",
              "    <tr>\n",
              "      <th>2020-04-28</th>\n",
              "      <td>3116398.0</td>\n",
              "      <td>217153.0</td>\n",
              "      <td>29.799082</td>\n",
              "      <td>6.968077</td>\n",
              "      <td>97</td>\n",
              "    </tr>\n",
              "    <tr>\n",
              "      <th>2020-04-29</th>\n",
              "      <td>3193886.0</td>\n",
              "      <td>227638.0</td>\n",
              "      <td>30.455658</td>\n",
              "      <td>7.127305</td>\n",
              "      <td>98</td>\n",
              "    </tr>\n",
              "  </tbody>\n",
              "</table>\n",
              "</div>"
            ],
            "text/plain": [
              "                 Confirmed    Deaths  Recovered  Mortality Rate  Days\n",
              "ObservationDate                                                      \n",
              "2020-04-20       2472259.0  169986.0  26.119351        6.875736    89\n",
              "2020-04-21       2549123.0  176583.0  26.668741        6.927206    90\n",
              "2020-04-22       2623960.0  183066.0  27.046678        6.976707    91\n",
              "2020-04-23       2708885.0  190858.0  27.261622        7.045629    92\n",
              "2020-04-24       2810715.0  197151.0  28.228405        7.014265    93\n",
              "2020-04-25       2896746.0  202846.0  28.193186        7.002547    94\n",
              "2020-04-26       2971475.0  206544.0  29.134790        6.950891    95\n",
              "2020-04-27       3041764.0  211167.0  29.389755        6.942255    96\n",
              "2020-04-28       3116398.0  217153.0  29.799082        6.968077    97\n",
              "2020-04-29       3193886.0  227638.0  30.455658        7.127305    98"
            ]
          },
          "metadata": {
            "tags": []
          },
          "execution_count": 26
        }
      ]
    },
    {
      "cell_type": "code",
      "metadata": {
        "id": "dtnUG0hzn_L9",
        "colab_type": "code",
        "outputId": "23248e13-9685-412f-ce0a-c365edc482cc",
        "colab": {
          "base_uri": "https://localhost:8080/",
          "height": 450
        }
      },
      "source": [
        "train_ml"
      ],
      "execution_count": 27,
      "outputs": [
        {
          "output_type": "execute_result",
          "data": {
            "text/html": [
              "<div>\n",
              "<style scoped>\n",
              "    .dataframe tbody tr th:only-of-type {\n",
              "        vertical-align: middle;\n",
              "    }\n",
              "\n",
              "    .dataframe tbody tr th {\n",
              "        vertical-align: top;\n",
              "    }\n",
              "\n",
              "    .dataframe thead th {\n",
              "        text-align: right;\n",
              "    }\n",
              "</style>\n",
              "<table border=\"1\" class=\"dataframe\">\n",
              "  <thead>\n",
              "    <tr style=\"text-align: right;\">\n",
              "      <th></th>\n",
              "      <th>Confirmed</th>\n",
              "      <th>Deaths</th>\n",
              "      <th>Recovered</th>\n",
              "      <th>Mortality Rate</th>\n",
              "      <th>Days</th>\n",
              "    </tr>\n",
              "    <tr>\n",
              "      <th>ObservationDate</th>\n",
              "      <th></th>\n",
              "      <th></th>\n",
              "      <th></th>\n",
              "      <th></th>\n",
              "      <th></th>\n",
              "    </tr>\n",
              "  </thead>\n",
              "  <tbody>\n",
              "    <tr>\n",
              "      <th>2020-01-22</th>\n",
              "      <td>555.0</td>\n",
              "      <td>17.0</td>\n",
              "      <td>5.045045</td>\n",
              "      <td>3.063063</td>\n",
              "      <td>0</td>\n",
              "    </tr>\n",
              "    <tr>\n",
              "      <th>2020-01-23</th>\n",
              "      <td>653.0</td>\n",
              "      <td>18.0</td>\n",
              "      <td>4.594181</td>\n",
              "      <td>2.756508</td>\n",
              "      <td>1</td>\n",
              "    </tr>\n",
              "    <tr>\n",
              "      <th>2020-01-24</th>\n",
              "      <td>941.0</td>\n",
              "      <td>26.0</td>\n",
              "      <td>3.825717</td>\n",
              "      <td>2.763018</td>\n",
              "      <td>2</td>\n",
              "    </tr>\n",
              "    <tr>\n",
              "      <th>2020-01-25</th>\n",
              "      <td>1438.0</td>\n",
              "      <td>42.0</td>\n",
              "      <td>2.712100</td>\n",
              "      <td>2.920723</td>\n",
              "      <td>3</td>\n",
              "    </tr>\n",
              "    <tr>\n",
              "      <th>2020-01-26</th>\n",
              "      <td>2118.0</td>\n",
              "      <td>56.0</td>\n",
              "      <td>2.455146</td>\n",
              "      <td>2.644004</td>\n",
              "      <td>4</td>\n",
              "    </tr>\n",
              "    <tr>\n",
              "      <th>...</th>\n",
              "      <td>...</td>\n",
              "      <td>...</td>\n",
              "      <td>...</td>\n",
              "      <td>...</td>\n",
              "      <td>...</td>\n",
              "    </tr>\n",
              "    <tr>\n",
              "      <th>2020-04-15</th>\n",
              "      <td>2056055.0</td>\n",
              "      <td>134177.0</td>\n",
              "      <td>24.854345</td>\n",
              "      <td>6.525944</td>\n",
              "      <td>84</td>\n",
              "    </tr>\n",
              "    <tr>\n",
              "      <th>2020-04-16</th>\n",
              "      <td>2152647.0</td>\n",
              "      <td>143801.0</td>\n",
              "      <td>25.183274</td>\n",
              "      <td>6.680194</td>\n",
              "      <td>85</td>\n",
              "    </tr>\n",
              "    <tr>\n",
              "      <th>2020-04-17</th>\n",
              "      <td>2240191.0</td>\n",
              "      <td>153822.0</td>\n",
              "      <td>25.370292</td>\n",
              "      <td>6.866468</td>\n",
              "      <td>86</td>\n",
              "    </tr>\n",
              "    <tr>\n",
              "      <th>2020-04-18</th>\n",
              "      <td>2317759.0</td>\n",
              "      <td>159510.0</td>\n",
              "      <td>25.555677</td>\n",
              "      <td>6.882079</td>\n",
              "      <td>87</td>\n",
              "    </tr>\n",
              "    <tr>\n",
              "      <th>2020-04-19</th>\n",
              "      <td>2401379.0</td>\n",
              "      <td>165044.0</td>\n",
              "      <td>25.981030</td>\n",
              "      <td>6.872884</td>\n",
              "      <td>88</td>\n",
              "    </tr>\n",
              "  </tbody>\n",
              "</table>\n",
              "<p>89 rows × 5 columns</p>\n",
              "</div>"
            ],
            "text/plain": [
              "                 Confirmed    Deaths  Recovered  Mortality Rate  Days\n",
              "ObservationDate                                                      \n",
              "2020-01-22           555.0      17.0   5.045045        3.063063     0\n",
              "2020-01-23           653.0      18.0   4.594181        2.756508     1\n",
              "2020-01-24           941.0      26.0   3.825717        2.763018     2\n",
              "2020-01-25          1438.0      42.0   2.712100        2.920723     3\n",
              "2020-01-26          2118.0      56.0   2.455146        2.644004     4\n",
              "...                    ...       ...        ...             ...   ...\n",
              "2020-04-15       2056055.0  134177.0  24.854345        6.525944    84\n",
              "2020-04-16       2152647.0  143801.0  25.183274        6.680194    85\n",
              "2020-04-17       2240191.0  153822.0  25.370292        6.866468    86\n",
              "2020-04-18       2317759.0  159510.0  25.555677        6.882079    87\n",
              "2020-04-19       2401379.0  165044.0  25.981030        6.872884    88\n",
              "\n",
              "[89 rows x 5 columns]"
            ]
          },
          "metadata": {
            "tags": []
          },
          "execution_count": 27
        }
      ]
    },
    {
      "cell_type": "code",
      "metadata": {
        "id": "9cwG11qdoByg",
        "colab_type": "code",
        "colab": {}
      },
      "source": [
        "#Linear Regression "
      ],
      "execution_count": 0,
      "outputs": []
    },
    {
      "cell_type": "code",
      "metadata": {
        "id": "ZZBuRSk2oIz9",
        "colab_type": "code",
        "colab": {}
      },
      "source": [
        "from sklearn.linear_model import LinearRegression\n",
        "lin_reg=LinearRegression(normalize=True)"
      ],
      "execution_count": 0,
      "outputs": []
    },
    {
      "cell_type": "code",
      "metadata": {
        "id": "_FhwmJv8okKB",
        "colab_type": "code",
        "outputId": "1891f4d9-ea8b-4f33-acda-ab9929b7702c",
        "colab": {
          "base_uri": "https://localhost:8080/",
          "height": 1000
        }
      },
      "source": [
        "x=np.array(train_ml['Days']).reshape(-1,1)\n",
        "x"
      ],
      "execution_count": 30,
      "outputs": [
        {
          "output_type": "execute_result",
          "data": {
            "text/plain": [
              "array([[ 0],\n",
              "       [ 1],\n",
              "       [ 2],\n",
              "       [ 3],\n",
              "       [ 4],\n",
              "       [ 5],\n",
              "       [ 6],\n",
              "       [ 7],\n",
              "       [ 8],\n",
              "       [ 9],\n",
              "       [10],\n",
              "       [11],\n",
              "       [12],\n",
              "       [13],\n",
              "       [14],\n",
              "       [15],\n",
              "       [16],\n",
              "       [17],\n",
              "       [18],\n",
              "       [19],\n",
              "       [20],\n",
              "       [21],\n",
              "       [22],\n",
              "       [23],\n",
              "       [24],\n",
              "       [25],\n",
              "       [26],\n",
              "       [27],\n",
              "       [28],\n",
              "       [29],\n",
              "       [30],\n",
              "       [31],\n",
              "       [32],\n",
              "       [33],\n",
              "       [34],\n",
              "       [35],\n",
              "       [36],\n",
              "       [37],\n",
              "       [38],\n",
              "       [39],\n",
              "       [40],\n",
              "       [41],\n",
              "       [42],\n",
              "       [43],\n",
              "       [44],\n",
              "       [45],\n",
              "       [46],\n",
              "       [47],\n",
              "       [48],\n",
              "       [49],\n",
              "       [50],\n",
              "       [51],\n",
              "       [52],\n",
              "       [53],\n",
              "       [54],\n",
              "       [55],\n",
              "       [56],\n",
              "       [57],\n",
              "       [58],\n",
              "       [59],\n",
              "       [60],\n",
              "       [61],\n",
              "       [62],\n",
              "       [63],\n",
              "       [64],\n",
              "       [65],\n",
              "       [66],\n",
              "       [67],\n",
              "       [68],\n",
              "       [69],\n",
              "       [70],\n",
              "       [71],\n",
              "       [72],\n",
              "       [73],\n",
              "       [74],\n",
              "       [75],\n",
              "       [76],\n",
              "       [77],\n",
              "       [78],\n",
              "       [79],\n",
              "       [80],\n",
              "       [81],\n",
              "       [82],\n",
              "       [83],\n",
              "       [84],\n",
              "       [85],\n",
              "       [86],\n",
              "       [87],\n",
              "       [88]])"
            ]
          },
          "metadata": {
            "tags": []
          },
          "execution_count": 30
        }
      ]
    },
    {
      "cell_type": "code",
      "metadata": {
        "id": "v1U4dsFOoabD",
        "colab_type": "code",
        "outputId": "01e7c501-9fbd-4ea2-ec32-3d2bffdf5809",
        "colab": {
          "base_uri": "https://localhost:8080/",
          "height": 1000
        }
      },
      "source": [
        "y=np.array(train_ml['Confirmed']).reshape(-1,1)\n",
        "y"
      ],
      "execution_count": 31,
      "outputs": [
        {
          "output_type": "execute_result",
          "data": {
            "text/plain": [
              "array([[5.550000e+02],\n",
              "       [6.530000e+02],\n",
              "       [9.410000e+02],\n",
              "       [1.438000e+03],\n",
              "       [2.118000e+03],\n",
              "       [2.927000e+03],\n",
              "       [5.578000e+03],\n",
              "       [6.165000e+03],\n",
              "       [8.235000e+03],\n",
              "       [9.925000e+03],\n",
              "       [1.203800e+04],\n",
              "       [1.678700e+04],\n",
              "       [1.988100e+04],\n",
              "       [2.389200e+04],\n",
              "       [2.763600e+04],\n",
              "       [3.081800e+04],\n",
              "       [3.439200e+04],\n",
              "       [3.712100e+04],\n",
              "       [4.015100e+04],\n",
              "       [4.276300e+04],\n",
              "       [4.480300e+04],\n",
              "       [4.522200e+04],\n",
              "       [6.037000e+04],\n",
              "       [6.688700e+04],\n",
              "       [6.903200e+04],\n",
              "       [7.122600e+04],\n",
              "       [7.326000e+04],\n",
              "       [7.513800e+04],\n",
              "       [7.564100e+04],\n",
              "       [7.619900e+04],\n",
              "       [7.684300e+04],\n",
              "       [7.859900e+04],\n",
              "       [7.898500e+04],\n",
              "       [7.957000e+04],\n",
              "       [8.041500e+04],\n",
              "       [8.139700e+04],\n",
              "       [8.275600e+04],\n",
              "       [8.412400e+04],\n",
              "       [8.601300e+04],\n",
              "       [8.837100e+04],\n",
              "       [9.030900e+04],\n",
              "       [9.284400e+04],\n",
              "       [9.512400e+04],\n",
              "       [9.788600e+04],\n",
              "       [1.018000e+05],\n",
              "       [1.058360e+05],\n",
              "       [1.098350e+05],\n",
              "       [1.135820e+05],\n",
              "       [1.185820e+05],\n",
              "       [1.258650e+05],\n",
              "       [1.283430e+05],\n",
              "       [1.451930e+05],\n",
              "       [1.560990e+05],\n",
              "       [1.674470e+05],\n",
              "       [1.815460e+05],\n",
              "       [1.971680e+05],\n",
              "       [2.149150e+05],\n",
              "       [2.427130e+05],\n",
              "       [2.721670e+05],\n",
              "       [3.045490e+05],\n",
              "       [3.371220e+05],\n",
              "       [3.782830e+05],\n",
              "       [4.179620e+05],\n",
              "       [4.675940e+05],\n",
              "       [5.295910e+05],\n",
              "       [5.932910e+05],\n",
              "       [6.606930e+05],\n",
              "       [7.201400e+05],\n",
              "       [7.823890e+05],\n",
              "       [8.574870e+05],\n",
              "       [9.326050e+05],\n",
              "       [1.013303e+06],\n",
              "       [1.095917e+06],\n",
              "       [1.197408e+06],\n",
              "       [1.272115e+06],\n",
              "       [1.345101e+06],\n",
              "       [1.426096e+06],\n",
              "       [1.511104e+06],\n",
              "       [1.595350e+06],\n",
              "       [1.691719e+06],\n",
              "       [1.771514e+06],\n",
              "       [1.846680e+06],\n",
              "       [1.917320e+06],\n",
              "       [1.976192e+06],\n",
              "       [2.056055e+06],\n",
              "       [2.152647e+06],\n",
              "       [2.240191e+06],\n",
              "       [2.317759e+06],\n",
              "       [2.401379e+06]])"
            ]
          },
          "metadata": {
            "tags": []
          },
          "execution_count": 31
        }
      ]
    },
    {
      "cell_type": "code",
      "metadata": {
        "id": "u3Fy37oLpOev",
        "colab_type": "code",
        "outputId": "8d289718-fe30-49c7-b608-446995a9c202",
        "colab": {
          "base_uri": "https://localhost:8080/",
          "height": 34
        }
      },
      "source": [
        "lin_reg.fit(x,y)"
      ],
      "execution_count": 32,
      "outputs": [
        {
          "output_type": "execute_result",
          "data": {
            "text/plain": [
              "LinearRegression(copy_X=True, fit_intercept=True, n_jobs=None, normalize=True)"
            ]
          },
          "metadata": {
            "tags": []
          },
          "execution_count": 32
        }
      ]
    },
    {
      "cell_type": "code",
      "metadata": {
        "id": "wpeXNlgCpQSb",
        "colab_type": "code",
        "colab": {}
      },
      "source": [
        "predicted_value=lin_reg.predict(np.array(test_ml['Days']).reshape(-1,1))"
      ],
      "execution_count": 0,
      "outputs": []
    },
    {
      "cell_type": "code",
      "metadata": {
        "id": "g2Gsuh_Zpn8w",
        "colab_type": "code",
        "outputId": "2514d5c3-693b-4647-d84d-f7becfca5299",
        "colab": {
          "base_uri": "https://localhost:8080/",
          "height": 187
        }
      },
      "source": [
        "predicted_value"
      ],
      "execution_count": 34,
      "outputs": [
        {
          "output_type": "execute_result",
          "data": {
            "text/plain": [
              "array([[1452077.60495404],\n",
              "       [1473767.80017024],\n",
              "       [1495457.99538645],\n",
              "       [1517148.19060266],\n",
              "       [1538838.38581886],\n",
              "       [1560528.58103507],\n",
              "       [1582218.77625128],\n",
              "       [1603908.97146748],\n",
              "       [1625599.16668369],\n",
              "       [1647289.3618999 ]])"
            ]
          },
          "metadata": {
            "tags": []
          },
          "execution_count": 34
        }
      ]
    },
    {
      "cell_type": "code",
      "metadata": {
        "id": "L2lMd_szpp7U",
        "colab_type": "code",
        "colab": {}
      },
      "source": [
        "predicted_linreg=lin_reg.predict(np.array(covid_datewise['Days']).reshape(-1,1))"
      ],
      "execution_count": 0,
      "outputs": []
    },
    {
      "cell_type": "code",
      "metadata": {
        "id": "m_wNRbZJqTPE",
        "colab_type": "code",
        "outputId": "ee705b29-c9a5-483a-a013-647de4935e77",
        "colab": {
          "base_uri": "https://localhost:8080/",
          "height": 276
        }
      },
      "source": [
        "plt.plot(covid_datewise['Confirmed'],label='Actual Confirmed Cases')\n",
        "plt.plot(covid_datewise.index,predicted_linreg,linestyle='--',color='red')\n",
        "plt.show()"
      ],
      "execution_count": 36,
      "outputs": [
        {
          "output_type": "display_data",
          "data": {
            "image/png": "[encoded data removed]",
            "text/plain": [
              "<Figure size 432x288 with 1 Axes>"
            ]
          },
          "metadata": {
            "tags": []
          }
        }
      ]
    },
    {
      "cell_type": "code",
      "metadata": {
        "id": "KicDAfi0rJt3",
        "colab_type": "code",
        "colab": {}
      },
      "source": [
        "# ARIMA (P,D,Q)\n"
      ],
      "execution_count": 0,
      "outputs": []
    },
    {
      "cell_type": "code",
      "metadata": {
        "id": "dFT1Fpgzrc77",
        "colab_type": "code",
        "colab": {}
      },
      "source": [
        "from statsmodels.tsa.ar_model import AR\n",
        "from statsmodels.tsa.arima_model import ARIMA "
      ],
      "execution_count": 0,
      "outputs": []
    },
    {
      "cell_type": "code",
      "metadata": {
        "id": "_Zncc3d9rdcZ",
        "colab_type": "code",
        "colab": {}
      },
      "source": [
        "train_arima = covid_datewise.iloc[: int(covid_datewise.shape[0] * 0.85)]\n",
        "valid_arima= covid_datewise.iloc[int(covid_datewise.shape[0] * 0.85) : ]"
      ],
      "execution_count": 0,
      "outputs": []
    },
    {
      "cell_type": "code",
      "metadata": {
        "id": "RJ-eioUZwwUa",
        "colab_type": "code",
        "outputId": "41c0c967-abcb-40e7-8330-6b3a3199566e",
        "colab": {
          "base_uri": "https://localhost:8080/",
          "height": 545
        }
      },
      "source": [
        "valid_arima"
      ],
      "execution_count": 39,
      "outputs": [
        {
          "output_type": "execute_result",
          "data": {
            "text/html": [
              "<div>\n",
              "<style scoped>\n",
              "    .dataframe tbody tr th:only-of-type {\n",
              "        vertical-align: middle;\n",
              "    }\n",
              "\n",
              "    .dataframe tbody tr th {\n",
              "        vertical-align: top;\n",
              "    }\n",
              "\n",
              "    .dataframe thead th {\n",
              "        text-align: right;\n",
              "    }\n",
              "</style>\n",
              "<table border=\"1\" class=\"dataframe\">\n",
              "  <thead>\n",
              "    <tr style=\"text-align: right;\">\n",
              "      <th></th>\n",
              "      <th>Confirmed</th>\n",
              "      <th>Deaths</th>\n",
              "      <th>Recovered</th>\n",
              "      <th>Mortality Rate</th>\n",
              "      <th>Days</th>\n",
              "    </tr>\n",
              "    <tr>\n",
              "      <th>ObservationDate</th>\n",
              "      <th></th>\n",
              "      <th></th>\n",
              "      <th></th>\n",
              "      <th></th>\n",
              "      <th></th>\n",
              "    </tr>\n",
              "  </thead>\n",
              "  <tbody>\n",
              "    <tr>\n",
              "      <th>2020-04-15</th>\n",
              "      <td>2056055.0</td>\n",
              "      <td>134177.0</td>\n",
              "      <td>24.854345</td>\n",
              "      <td>6.525944</td>\n",
              "      <td>84</td>\n",
              "    </tr>\n",
              "    <tr>\n",
              "      <th>2020-04-16</th>\n",
              "      <td>2152647.0</td>\n",
              "      <td>143801.0</td>\n",
              "      <td>25.183274</td>\n",
              "      <td>6.680194</td>\n",
              "      <td>85</td>\n",
              "    </tr>\n",
              "    <tr>\n",
              "      <th>2020-04-17</th>\n",
              "      <td>2240191.0</td>\n",
              "      <td>153822.0</td>\n",
              "      <td>25.370292</td>\n",
              "      <td>6.866468</td>\n",
              "      <td>86</td>\n",
              "    </tr>\n",
              "    <tr>\n",
              "      <th>2020-04-18</th>\n",
              "      <td>2317759.0</td>\n",
              "      <td>159510.0</td>\n",
              "      <td>25.555677</td>\n",
              "      <td>6.882079</td>\n",
              "      <td>87</td>\n",
              "    </tr>\n",
              "    <tr>\n",
              "      <th>2020-04-19</th>\n",
              "      <td>2401379.0</td>\n",
              "      <td>165044.0</td>\n",
              "      <td>25.981030</td>\n",
              "      <td>6.872884</td>\n",
              "      <td>88</td>\n",
              "    </tr>\n",
              "    <tr>\n",
              "      <th>2020-04-20</th>\n",
              "      <td>2472259.0</td>\n",
              "      <td>169986.0</td>\n",
              "      <td>26.119351</td>\n",
              "      <td>6.875736</td>\n",
              "      <td>89</td>\n",
              "    </tr>\n",
              "    <tr>\n",
              "      <th>2020-04-21</th>\n",
              "      <td>2549123.0</td>\n",
              "      <td>176583.0</td>\n",
              "      <td>26.668741</td>\n",
              "      <td>6.927206</td>\n",
              "      <td>90</td>\n",
              "    </tr>\n",
              "    <tr>\n",
              "      <th>2020-04-22</th>\n",
              "      <td>2623960.0</td>\n",
              "      <td>183066.0</td>\n",
              "      <td>27.046678</td>\n",
              "      <td>6.976707</td>\n",
              "      <td>91</td>\n",
              "    </tr>\n",
              "    <tr>\n",
              "      <th>2020-04-23</th>\n",
              "      <td>2708885.0</td>\n",
              "      <td>190858.0</td>\n",
              "      <td>27.261622</td>\n",
              "      <td>7.045629</td>\n",
              "      <td>92</td>\n",
              "    </tr>\n",
              "    <tr>\n",
              "      <th>2020-04-24</th>\n",
              "      <td>2810715.0</td>\n",
              "      <td>197151.0</td>\n",
              "      <td>28.228405</td>\n",
              "      <td>7.014265</td>\n",
              "      <td>93</td>\n",
              "    </tr>\n",
              "    <tr>\n",
              "      <th>2020-04-25</th>\n",
              "      <td>2896746.0</td>\n",
              "      <td>202846.0</td>\n",
              "      <td>28.193186</td>\n",
              "      <td>7.002547</td>\n",
              "      <td>94</td>\n",
              "    </tr>\n",
              "    <tr>\n",
              "      <th>2020-04-26</th>\n",
              "      <td>2971475.0</td>\n",
              "      <td>206544.0</td>\n",
              "      <td>29.134790</td>\n",
              "      <td>6.950891</td>\n",
              "      <td>95</td>\n",
              "    </tr>\n",
              "    <tr>\n",
              "      <th>2020-04-27</th>\n",
              "      <td>3041764.0</td>\n",
              "      <td>211167.0</td>\n",
              "      <td>29.389755</td>\n",
              "      <td>6.942255</td>\n",
              "      <td>96</td>\n",
              "    </tr>\n",
              "    <tr>\n",
              "      <th>2020-04-28</th>\n",
              "      <td>3116398.0</td>\n",
              "      <td>217153.0</td>\n",
              "      <td>29.799082</td>\n",
              "      <td>6.968077</td>\n",
              "      <td>97</td>\n",
              "    </tr>\n",
              "    <tr>\n",
              "      <th>2020-04-29</th>\n",
              "      <td>3193886.0</td>\n",
              "      <td>227638.0</td>\n",
              "      <td>30.455658</td>\n",
              "      <td>7.127305</td>\n",
              "      <td>98</td>\n",
              "    </tr>\n",
              "  </tbody>\n",
              "</table>\n",
              "</div>"
            ],
            "text/plain": [
              "                 Confirmed    Deaths  Recovered  Mortality Rate  Days\n",
              "ObservationDate                                                      \n",
              "2020-04-15       2056055.0  134177.0  24.854345        6.525944    84\n",
              "2020-04-16       2152647.0  143801.0  25.183274        6.680194    85\n",
              "2020-04-17       2240191.0  153822.0  25.370292        6.866468    86\n",
              "2020-04-18       2317759.0  159510.0  25.555677        6.882079    87\n",
              "2020-04-19       2401379.0  165044.0  25.981030        6.872884    88\n",
              "2020-04-20       2472259.0  169986.0  26.119351        6.875736    89\n",
              "2020-04-21       2549123.0  176583.0  26.668741        6.927206    90\n",
              "2020-04-22       2623960.0  183066.0  27.046678        6.976707    91\n",
              "2020-04-23       2708885.0  190858.0  27.261622        7.045629    92\n",
              "2020-04-24       2810715.0  197151.0  28.228405        7.014265    93\n",
              "2020-04-25       2896746.0  202846.0  28.193186        7.002547    94\n",
              "2020-04-26       2971475.0  206544.0  29.134790        6.950891    95\n",
              "2020-04-27       3041764.0  211167.0  29.389755        6.942255    96\n",
              "2020-04-28       3116398.0  217153.0  29.799082        6.968077    97\n",
              "2020-04-29       3193886.0  227638.0  30.455658        7.127305    98"
            ]
          },
          "metadata": {
            "tags": []
          },
          "execution_count": 39
        }
      ]
    },
    {
      "cell_type": "code",
      "metadata": {
        "id": "__-OSh8hwzJT",
        "colab_type": "code",
        "colab": {}
      },
      "source": [
        "log_series=np.log(train_arima['Confirmed'])"
      ],
      "execution_count": 0,
      "outputs": []
    },
    {
      "cell_type": "code",
      "metadata": {
        "id": "SWqnIW3Gw9Xb",
        "colab_type": "code",
        "outputId": "48ed8bcc-11c2-44a4-bda2-599a6a321d43",
        "colab": {
          "base_uri": "https://localhost:8080/",
          "height": 238
        }
      },
      "source": [
        "log_series"
      ],
      "execution_count": 41,
      "outputs": [
        {
          "output_type": "execute_result",
          "data": {
            "text/plain": [
              "ObservationDate\n",
              "2020-01-22     6.318968\n",
              "2020-01-23     6.481577\n",
              "2020-01-24     6.846943\n",
              "2020-01-25     7.271009\n",
              "2020-01-26     7.658228\n",
              "                ...    \n",
              "2020-04-10    14.341256\n",
              "2020-04-11    14.387345\n",
              "2020-04-12    14.428900\n",
              "2020-04-13    14.466439\n",
              "2020-04-14    14.496682\n",
              "Name: Confirmed, Length: 84, dtype: float64"
            ]
          },
          "metadata": {
            "tags": []
          },
          "execution_count": 41
        }
      ]
    },
    {
      "cell_type": "code",
      "metadata": {
        "id": "zzbWK6Xaw-_u",
        "colab_type": "code",
        "outputId": "fe5f8379-f944-460b-9885-9f98ac577ada",
        "colab": {
          "base_uri": "https://localhost:8080/",
          "height": 105
        }
      },
      "source": [
        "model_ma = ARIMA(log_series, (1, 1, 2))\n",
        "Arima_fit_model = model_ma.fit()\n"
      ],
      "execution_count": 44,
      "outputs": [
        {
          "output_type": "stream",
          "text": [
            "/usr/local/lib/python3.6/dist-packages/statsmodels/tsa/base/tsa_model.py:165: ValueWarning: No frequency information was provided, so inferred frequency D will be used.\n",
            "  % freq, ValueWarning)\n",
            "/usr/local/lib/python3.6/dist-packages/statsmodels/tsa/base/tsa_model.py:165: ValueWarning: No frequency information was provided, so inferred frequency D will be used.\n",
            "  % freq, ValueWarning)\n"
          ],
          "name": "stderr"
        }
      ]
    },
    {
      "cell_type": "code",
      "metadata": {
        "id": "aybFR9ykxONZ",
        "colab_type": "code",
        "colab": {}
      },
      "source": [
        "predicted_ma=Arima_fit_model.forecast(len(valid_arima))[0]"
      ],
      "execution_count": 0,
      "outputs": []
    },
    {
      "cell_type": "code",
      "metadata": {
        "id": "6V3MPyhLyg_h",
        "colab_type": "code",
        "colab": {}
      },
      "source": [
        "from statsmodels.tsa.ar_model import AR\n",
        "from statsmodels.tsa.arima_model import ARIMA\n"
      ],
      "execution_count": 0,
      "outputs": []
    },
    {
      "cell_type": "code",
      "metadata": {
        "id": "MFNkbie6xlIc",
        "colab_type": "code",
        "colab": {}
      },
      "source": [
        "train_arima = covid_datewise.iloc[: int(covid_datewise.shape[0] * 0.85)]\n",
        "valid_arima = covid_datewise.iloc[int(covid_datewise.shape[0] * 0.85) : ]\n"
      ],
      "execution_count": 0,
      "outputs": []
    },
    {
      "cell_type": "code",
      "metadata": {
        "id": "TRaqx7JhykyH",
        "colab_type": "code",
        "outputId": "8d39f7dd-ea48-41ec-89c6-1b941dd4ec7f",
        "colab": {
          "base_uri": "https://localhost:8080/",
          "height": 545
        }
      },
      "source": [
        "valid_arima\n"
      ],
      "execution_count": 48,
      "outputs": [
        {
          "output_type": "execute_result",
          "data": {
            "text/html": [
              "<div>\n",
              "<style scoped>\n",
              "    .dataframe tbody tr th:only-of-type {\n",
              "        vertical-align: middle;\n",
              "    }\n",
              "\n",
              "    .dataframe tbody tr th {\n",
              "        vertical-align: top;\n",
              "    }\n",
              "\n",
              "    .dataframe thead th {\n",
              "        text-align: right;\n",
              "    }\n",
              "</style>\n",
              "<table border=\"1\" class=\"dataframe\">\n",
              "  <thead>\n",
              "    <tr style=\"text-align: right;\">\n",
              "      <th></th>\n",
              "      <th>Confirmed</th>\n",
              "      <th>Deaths</th>\n",
              "      <th>Recovered</th>\n",
              "      <th>Mortality Rate</th>\n",
              "      <th>Days</th>\n",
              "    </tr>\n",
              "    <tr>\n",
              "      <th>ObservationDate</th>\n",
              "      <th></th>\n",
              "      <th></th>\n",
              "      <th></th>\n",
              "      <th></th>\n",
              "      <th></th>\n",
              "    </tr>\n",
              "  </thead>\n",
              "  <tbody>\n",
              "    <tr>\n",
              "      <th>2020-04-15</th>\n",
              "      <td>2056055.0</td>\n",
              "      <td>134177.0</td>\n",
              "      <td>24.854345</td>\n",
              "      <td>6.525944</td>\n",
              "      <td>84</td>\n",
              "    </tr>\n",
              "    <tr>\n",
              "      <th>2020-04-16</th>\n",
              "      <td>2152647.0</td>\n",
              "      <td>143801.0</td>\n",
              "      <td>25.183274</td>\n",
              "      <td>6.680194</td>\n",
              "      <td>85</td>\n",
              "    </tr>\n",
              "    <tr>\n",
              "      <th>2020-04-17</th>\n",
              "      <td>2240191.0</td>\n",
              "      <td>153822.0</td>\n",
              "      <td>25.370292</td>\n",
              "      <td>6.866468</td>\n",
              "      <td>86</td>\n",
              "    </tr>\n",
              "    <tr>\n",
              "      <th>2020-04-18</th>\n",
              "      <td>2317759.0</td>\n",
              "      <td>159510.0</td>\n",
              "      <td>25.555677</td>\n",
              "      <td>6.882079</td>\n",
              "      <td>87</td>\n",
              "    </tr>\n",
              "    <tr>\n",
              "      <th>2020-04-19</th>\n",
              "      <td>2401379.0</td>\n",
              "      <td>165044.0</td>\n",
              "      <td>25.981030</td>\n",
              "      <td>6.872884</td>\n",
              "      <td>88</td>\n",
              "    </tr>\n",
              "    <tr>\n",
              "      <th>2020-04-20</th>\n",
              "      <td>2472259.0</td>\n",
              "      <td>169986.0</td>\n",
              "      <td>26.119351</td>\n",
              "      <td>6.875736</td>\n",
              "      <td>89</td>\n",
              "    </tr>\n",
              "    <tr>\n",
              "      <th>2020-04-21</th>\n",
              "      <td>2549123.0</td>\n",
              "      <td>176583.0</td>\n",
              "      <td>26.668741</td>\n",
              "      <td>6.927206</td>\n",
              "      <td>90</td>\n",
              "    </tr>\n",
              "    <tr>\n",
              "      <th>2020-04-22</th>\n",
              "      <td>2623960.0</td>\n",
              "      <td>183066.0</td>\n",
              "      <td>27.046678</td>\n",
              "      <td>6.976707</td>\n",
              "      <td>91</td>\n",
              "    </tr>\n",
              "    <tr>\n",
              "      <th>2020-04-23</th>\n",
              "      <td>2708885.0</td>\n",
              "      <td>190858.0</td>\n",
              "      <td>27.261622</td>\n",
              "      <td>7.045629</td>\n",
              "      <td>92</td>\n",
              "    </tr>\n",
              "    <tr>\n",
              "      <th>2020-04-24</th>\n",
              "      <td>2810715.0</td>\n",
              "      <td>197151.0</td>\n",
              "      <td>28.228405</td>\n",
              "      <td>7.014265</td>\n",
              "      <td>93</td>\n",
              "    </tr>\n",
              "    <tr>\n",
              "      <th>2020-04-25</th>\n",
              "      <td>2896746.0</td>\n",
              "      <td>202846.0</td>\n",
              "      <td>28.193186</td>\n",
              "      <td>7.002547</td>\n",
              "      <td>94</td>\n",
              "    </tr>\n",
              "    <tr>\n",
              "      <th>2020-04-26</th>\n",
              "      <td>2971475.0</td>\n",
              "      <td>206544.0</td>\n",
              "      <td>29.134790</td>\n",
              "      <td>6.950891</td>\n",
              "      <td>95</td>\n",
              "    </tr>\n",
              "    <tr>\n",
              "      <th>2020-04-27</th>\n",
              "      <td>3041764.0</td>\n",
              "      <td>211167.0</td>\n",
              "      <td>29.389755</td>\n",
              "      <td>6.942255</td>\n",
              "      <td>96</td>\n",
              "    </tr>\n",
              "    <tr>\n",
              "      <th>2020-04-28</th>\n",
              "      <td>3116398.0</td>\n",
              "      <td>217153.0</td>\n",
              "      <td>29.799082</td>\n",
              "      <td>6.968077</td>\n",
              "      <td>97</td>\n",
              "    </tr>\n",
              "    <tr>\n",
              "      <th>2020-04-29</th>\n",
              "      <td>3193886.0</td>\n",
              "      <td>227638.0</td>\n",
              "      <td>30.455658</td>\n",
              "      <td>7.127305</td>\n",
              "      <td>98</td>\n",
              "    </tr>\n",
              "  </tbody>\n",
              "</table>\n",
              "</div>"
            ],
            "text/plain": [
              "                 Confirmed    Deaths  Recovered  Mortality Rate  Days\n",
              "ObservationDate                                                      \n",
              "2020-04-15       2056055.0  134177.0  24.854345        6.525944    84\n",
              "2020-04-16       2152647.0  143801.0  25.183274        6.680194    85\n",
              "2020-04-17       2240191.0  153822.0  25.370292        6.866468    86\n",
              "2020-04-18       2317759.0  159510.0  25.555677        6.882079    87\n",
              "2020-04-19       2401379.0  165044.0  25.981030        6.872884    88\n",
              "2020-04-20       2472259.0  169986.0  26.119351        6.875736    89\n",
              "2020-04-21       2549123.0  176583.0  26.668741        6.927206    90\n",
              "2020-04-22       2623960.0  183066.0  27.046678        6.976707    91\n",
              "2020-04-23       2708885.0  190858.0  27.261622        7.045629    92\n",
              "2020-04-24       2810715.0  197151.0  28.228405        7.014265    93\n",
              "2020-04-25       2896746.0  202846.0  28.193186        7.002547    94\n",
              "2020-04-26       2971475.0  206544.0  29.134790        6.950891    95\n",
              "2020-04-27       3041764.0  211167.0  29.389755        6.942255    96\n",
              "2020-04-28       3116398.0  217153.0  29.799082        6.968077    97\n",
              "2020-04-29       3193886.0  227638.0  30.455658        7.127305    98"
            ]
          },
          "metadata": {
            "tags": []
          },
          "execution_count": 48
        }
      ]
    },
    {
      "cell_type": "code",
      "metadata": {
        "id": "eZ0mCfI8yq5z",
        "colab_type": "code",
        "colab": {}
      },
      "source": [
        "log_series = np.log(train_arima['Confirmed'])\n"
      ],
      "execution_count": 0,
      "outputs": []
    },
    {
      "cell_type": "code",
      "metadata": {
        "id": "9ONx81jYyrYd",
        "colab_type": "code",
        "outputId": "56f294ac-bbb6-45f1-a95f-0fa84f13852b",
        "colab": {
          "base_uri": "https://localhost:8080/",
          "height": 105
        }
      },
      "source": [
        "model_ma = ARIMA(log_series, (0, 2, 1))\n",
        "Arima_fit_model = model_ma.fit()"
      ],
      "execution_count": 50,
      "outputs": [
        {
          "output_type": "stream",
          "text": [
            "/usr/local/lib/python3.6/dist-packages/statsmodels/tsa/base/tsa_model.py:165: ValueWarning: No frequency information was provided, so inferred frequency D will be used.\n",
            "  % freq, ValueWarning)\n",
            "/usr/local/lib/python3.6/dist-packages/statsmodels/tsa/base/tsa_model.py:165: ValueWarning: No frequency information was provided, so inferred frequency D will be used.\n",
            "  % freq, ValueWarning)\n"
          ],
          "name": "stderr"
        }
      ]
    },
    {
      "cell_type": "code",
      "metadata": {
        "id": "qKzEUEHE1ng-",
        "colab_type": "code",
        "colab": {}
      },
      "source": [
        "predicted_ma=Arima_fit_model.forecast(len(valid_arima))[0]"
      ],
      "execution_count": 0,
      "outputs": []
    },
    {
      "cell_type": "code",
      "metadata": {
        "id": "x6Q6lzPxyt6b",
        "colab_type": "code",
        "outputId": "f0a447cc-f798-4222-a8f3-9a91df0b875a",
        "colab": {
          "base_uri": "https://localhost:8080/",
          "height": 68
        }
      },
      "source": [
        "predicted_ma"
      ],
      "execution_count": 52,
      "outputs": [
        {
          "output_type": "execute_result",
          "data": {
            "text/plain": [
              "array([14.52770908, 14.55534527, 14.57959088, 14.60044592, 14.61791039,\n",
              "       14.63198429, 14.64266761, 14.64996036, 14.65386253, 14.65437414,\n",
              "       14.65149517, 14.64522562, 14.6355655 , 14.62251481, 14.60607355])"
            ]
          },
          "metadata": {
            "tags": []
          },
          "execution_count": 52
        }
      ]
    },
    {
      "cell_type": "code",
      "metadata": {
        "id": "8gy8PYjz3yT7",
        "colab_type": "code",
        "outputId": "b7b8552b-901f-451a-e304-8b6e3c9986a0",
        "colab": {
          "base_uri": "https://localhost:8080/",
          "height": 34
        }
      },
      "source": [
        "from sklearn.metrics import mean_squared_error\n",
        "y_pred = valid_arima.copy()\n",
        "prediction_ma = Arima_fit_model.forecast(len(valid_arima))[0]\n",
        "y_pred[\"MA Model Prediction\"]=list(np.exp(prediction_ma))\n",
        "\n",
        "model_scores=[]\n",
        "model_scores.append(np.sqrt(mean_squared_error(list(valid_arima[\"Confirmed\"]),np.exp(prediction_ma))))\n",
        "print(\"Root Mean Square Error for MA Model: \",np.sqrt(mean_squared_error(list(valid_arima[\"Confirmed\"]),np.exp(prediction_ma))))\n"
      ],
      "execution_count": 53,
      "outputs": [
        {
          "output_type": "stream",
          "text": [
            "Root Mean Square Error for MA Model:  504932.3790653749\n"
          ],
          "name": "stdout"
        }
      ]
    },
    {
      "cell_type": "code",
      "metadata": {
        "id": "eG7MpWL234vb",
        "colab_type": "code",
        "outputId": "b0c92011-5c04-4683-c945-b8a82a811fc5",
        "colab": {
          "base_uri": "https://localhost:8080/",
          "height": 513
        }
      },
      "source": [
        "plt.figure(figsize=(15,8))\n",
        "plt.plot(train_arima.index,train_arima[\"Confirmed\"],label=\"Train Set\", marker='o', color = 'magenta')\n",
        "plt.plot(valid_arima.index,valid_arima[\"Confirmed\"], label=\"Validation Set\", marker='o', color = 'k')\n",
        "plt.plot(y_pred[\"MA Model Prediction\"], label=\"MA Mode Prediction Set\", marker='^', color = 'cyan')\n",
        "plt.legend()\n",
        "plt.xlabel(\"Date Time\")\n",
        "plt.ylabel('Confirmed Cases')\n",
        "plt.title(\"Confirmed Cases MA Model Forecasting\")\n",
        "plt.show()\n"
      ],
      "execution_count": 54,
      "outputs": [
        {
          "output_type": "display_data",
          "data": {
            "image/png": "[encoded data removed]",
            "text/plain": [
              "<Figure size 1080x576 with 1 Axes>"
            ]
          },
          "metadata": {
            "tags": []
          }
        }
      ]
    }
  ]
}